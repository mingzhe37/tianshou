{
 "cells": [
  {
   "cell_type": "code",
   "execution_count": 1,
   "metadata": {},
   "outputs": [
    {
     "name": "stdout",
     "output_type": "stream",
     "text": [
      "PKL files have been renamed.\n"
     ]
    }
   ],
   "source": [
    "import os\n",
    "\n",
    "# Path to the directory containing the files\n",
    "directory_path = \"./\"\n",
    "\n",
    "# Loop through each file in the directory\n",
    "for filename in os.listdir(directory_path):\n",
    "    # Check if it's a file, ends with '.pkl', and not a directory\n",
    "    if os.path.isfile(os.path.join(directory_path, filename)) and filename.endswith('.pkl'):\n",
    "        # Splitting the filename into parts\n",
    "        parts = filename.split('_')\n",
    "\n",
    "        # Filtering the parts to include only those needed\n",
    "        filtered_parts = [part for part in parts if part not in ['level', 'new', 'u', 'opt']]\n",
    "\n",
    "        # Joining the filtered parts back into a filename\n",
    "        new_filename = '_'.join(filtered_parts)\n",
    "\n",
    "        # Renaming the file\n",
    "        os.rename(os.path.join(directory_path, filename), os.path.join(directory_path, new_filename))\n",
    "\n",
    "# Print completion message\n",
    "print(\"PKL files have been renamed.\")\n"
   ]
  }
 ],
 "metadata": {
  "kernelspec": {
   "display_name": "reg",
   "language": "python",
   "name": "python3"
  },
  "language_info": {
   "codemirror_mode": {
    "name": "ipython",
    "version": 3
   },
   "file_extension": ".py",
   "mimetype": "text/x-python",
   "name": "python",
   "nbconvert_exporter": "python",
   "pygments_lexer": "ipython3",
   "version": "3.8.18"
  }
 },
 "nbformat": 4,
 "nbformat_minor": 2
}
