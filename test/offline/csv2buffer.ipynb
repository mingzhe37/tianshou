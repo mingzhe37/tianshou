{
 "cells": [
  {
   "cell_type": "markdown",
   "metadata": {},
   "source": [
    "Generate expert dataset from csv file"
   ]
  },
  {
   "cell_type": "code",
   "execution_count": null,
   "metadata": {},
   "outputs": [],
   "source": [
    "import pandas as pd\n",
    "from tianshou.data import ReplayBuffer, Batch\n",
    "import numpy as np\n",
    "\n",
    "# Load the CSV file\n",
    "df = pd.read_csv('pendulum_data_new.csv')\n",
    "\n",
    "# Initialize the Replay Buffer\n",
    "buffer_size = len(df)\n",
    "expert_buffer = ReplayBuffer(buffer_size)\n",
    "\n",
    "# Populate the Replay Buffer\n",
    "for i in range(buffer_size):\n",
    "    obs = np.array(df.loc[i, 'observations'][1:-1].split(', '), dtype=float)\n",
    "    act = df.loc[i, 'actions']\n",
    "    rew = df.loc[i, 'rewards']\n",
    "    done = df.loc[i, 'terminals']\n",
    "    next_obs = np.array(df.loc[i, 'next_observations'][1:-1].split(', '), dtype=float)\n",
    "    \n",
    "    # Assuming no truncation information is available, use the done flag for terminated\n",
    "    # and False for truncated (change this based on your specific case)\n",
    "    terminated = done\n",
    "    truncated = False\n",
    "\n",
    "    expert_buffer.add(\n",
    "        Batch(\n",
    "            obs=obs,\n",
    "            act=act,\n",
    "            rew=rew,\n",
    "            done=done,\n",
    "            obs_next=next_obs,\n",
    "            terminated=terminated,\n",
    "            truncated=truncated\n",
    "        )\n",
    "    )\n",
    "print(\"Data loaded into Tianshou Replay Buffer.\")"
   ]
  },
  {
   "cell_type": "code",
   "execution_count": null,
   "metadata": {},
   "outputs": [],
   "source": [
    "expert_buffer._meta"
   ]
  },
  {
   "cell_type": "markdown",
   "metadata": {},
   "source": [
    "Read expert dataset from saved pickle file"
   ]
  },
  {
   "cell_type": "code",
   "execution_count": null,
   "metadata": {},
   "outputs": [],
   "source": [
    "import pickle\n",
    "# from tianshou.data import VectorReplayBuffer  # Uncomment if needed\n",
    "\n",
    "# Path to your pickle file containing the VectorReplayBuffer\n",
    "pickle_file_path = 'expert_SAC_Pendulum-v1.pkl'\n",
    "\n",
    "# Load the buffer from the pickle file\n",
    "with open(pickle_file_path, 'rb') as file:\n",
    "    buffer = pickle.load(file)\n",
    "\n",
    "# Print the buffer metadata\n",
    "print(dir(buffer)) "
   ]
  },
  {
   "cell_type": "code",
   "execution_count": null,
   "metadata": {},
   "outputs": [],
   "source": [
    "# Using __len__ to get the current size of the buffer\n",
    "buffer_size = len(buffer)\n",
    "print(f\"Current Size of the Buffer: {buffer_size}\")\n",
    "\n",
    "# Using maxsize to get the maximum capacity of the buffer\n",
    "buffer_capacity = buffer.maxsize\n",
    "print(f\"Maximum Capacity of the Buffer: {buffer_capacity}\")\n",
    "\n",
    "# Additional metadata\n",
    "buffer_num = buffer.buffer_num\n",
    "print(f\"Number of Buffers: {buffer_num}\")\n",
    "\n",
    "stack_num = buffer.stack_num\n",
    "print(f\"Number of Stacked Frames: {stack_num}\")\n",
    "\n",
    "# Access the first buffer (if it's a VectorReplayBuffer)\n",
    "single_buffer = buffer.buffers[0]\n",
    "\n",
    "# Check if the buffer is not empty\n",
    "if len(single_buffer) > 0:\n",
    "    # Accessing the first transition\n",
    "    # This depends on how the data is structured in your buffer\n",
    "    # For example, if transitions are stored in a list-like structure\n",
    "    first_transition = single_buffer[0]\n",
    "\n",
    "    # Now, print the contents of the first transition\n",
    "    print(\"First Transition Contents:\")\n",
    "    for key, value in first_transition.items():\n",
    "        print(f\"{key}: {value}\")\n",
    "else:\n",
    "    print(\"The buffer is empty.\")"
   ]
  },
  {
   "cell_type": "markdown",
   "metadata": {},
   "source": [
    "Access the expert dataset in a single buffer"
   ]
  },
  {
   "cell_type": "code",
   "execution_count": null,
   "metadata": {},
   "outputs": [],
   "source": [
    "# Access a specific buffer from the VectorReplayBuffer\n",
    "specific_buffer = buffer.buffers[0]\n",
    "\n",
    "# Now you can print this buffer or inspect its contents\n",
    "print(\"Specific Buffer:\", specific_buffer)\n",
    "\n",
    "# To inspect details of this buffer, you can use dir() or access its attributes\n",
    "# For example, printing the size of this specific buffer\n",
    "print(\"Size of the Specific Buffer:\", len(specific_buffer))"
   ]
  },
  {
   "cell_type": "code",
   "execution_count": null,
   "metadata": {},
   "outputs": [],
   "source": []
  }
 ],
 "metadata": {
  "kernelspec": {
   "display_name": "rein",
   "language": "python",
   "name": "python3"
  },
  "language_info": {
   "codemirror_mode": {
    "name": "ipython",
    "version": 3
   },
   "file_extension": ".py",
   "mimetype": "text/x-python",
   "name": "python",
   "nbconvert_exporter": "python",
   "pygments_lexer": "ipython3",
   "version": "3.8.16"
  }
 },
 "nbformat": 4,
 "nbformat_minor": 2
}
